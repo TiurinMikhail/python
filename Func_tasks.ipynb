{
 "cells": [
  {
   "cell_type": "markdown",
   "id": "8ff801c1",
   "metadata": {},
   "source": [
    "# Tasks for writing functions according to the assignment. "
   ]
  },
  {
   "cell_type": "code",
   "execution_count": 1,
   "id": "376901c0",
   "metadata": {},
   "outputs": [],
   "source": [
    "#Let's make some functions"
   ]
  },
  {
   "cell_type": "code",
   "execution_count": null,
   "id": "ea3dff2b",
   "metadata": {},
   "outputs": [],
   "source": [
    "#single_letter_count\n",
    "\n",
    "#this function takes in two parameters (two strings). The first parameter should be a word and the second should be a letter.\n",
    "#The function returns the number of times that letter appears in the word. \n",
    "#The function should be case insensitive (does not matter if the input is lowercase or uppercase).\n",
    "#If the letter is not found in the word, the function should return 0.\n",
    "# single_letter_count('amazing','A') # 2"
   ]
  },
  {
   "cell_type": "code",
   "execution_count": 3,
   "id": "48e264be",
   "metadata": {},
   "outputs": [
    {
     "data": {
      "text/plain": [
       "2"
      ]
     },
     "execution_count": 3,
     "metadata": {},
     "output_type": "execute_result"
    }
   ],
   "source": [
    "def single_letter_count(word,letter):\n",
    "    word_l= word.lower()\n",
    "    return word.count(letter.lower())\n",
    "single_letter_count('amazing','A')"
   ]
  },
  {
   "cell_type": "code",
   "execution_count": null,
   "id": "8313b483",
   "metadata": {},
   "outputs": [],
   "source": [
    "# multiple_letter_count\n",
    "\n",
    "# this function takes in one parameter (a string) and returns a dictionary with the keys being the letters and the \n",
    "# values being the count of the letter.\n",
    "# multiple_letter_count(\"hello\") # {h:1, e: 1, l: 2, o:1}\n",
    "## multiple_letter_count(\"person\") # {p:1, e: 1, r: 1, s:1, o:1, n:1}"
   ]
  },
  {
   "cell_type": "code",
   "execution_count": 4,
   "id": "259e9185",
   "metadata": {},
   "outputs": [
    {
     "data": {
      "text/plain": [
       "{'h': 1, 'e': 1, 'l': 2, 'o': 1}"
      ]
     },
     "execution_count": 4,
     "metadata": {},
     "output_type": "execute_result"
    }
   ],
   "source": [
    "def multiple_letter_count(string):\n",
    "    sp = list(string)\n",
    "    dic={sp[i]: sp.count(sp[i]) for i in range(len(sp))}\n",
    "    return dic\n",
    "multiple_letter_count(\"hello\")"
   ]
  },
  {
   "cell_type": "code",
   "execution_count": null,
   "id": "0ce94635",
   "metadata": {},
   "outputs": [],
   "source": [
    "# list_manipulation\n",
    "\n",
    "# this function should take in three parameters (a list, command, location and value).\n",
    "\n",
    "#If the command is “remove” and the location is “end”, the function should remove the last value in the list \n",
    "# and return the valueremoved\n",
    "\n",
    "#If the command is “remove” and the location is “beginning”, the function should remove the first value in the list \n",
    "# and return the value removed\n",
    "\n",
    "#If the command is “add” and the location is “beginning”, the function should add the value (fourth parameter) to the beginning\n",
    "# of the list and return the list\n",
    "\n",
    "#If the command is “add” and the location is “end”, the function should add the value (fourth parameter) to the end of the list\n",
    "# and return the list\n",
    "\n",
    "#list_manipulation([1,2,3], \"remove\", \"end\") # 3\n",
    "#list_manipulation([1,2,3], \"remove\", \"beginning\") # 1\n",
    "#list_manipulation([1,2,3], \"add\", \"beginning\", 20) # [20,1,2,3]\n",
    "#list_manipulation([1,2,3], \"add\", \"end\", 30) # [1,2,3,30]\n"
   ]
  },
  {
   "cell_type": "code",
   "execution_count": 17,
   "id": "64a07632",
   "metadata": {},
   "outputs": [
    {
     "data": {
      "text/plain": [
       "[1, 2, 3, 30]"
      ]
     },
     "execution_count": 17,
     "metadata": {},
     "output_type": "execute_result"
    }
   ],
   "source": [
    "def list_manipulation(spisok,command,location,value=None):\n",
    "    if command == 'remove' and location == 'end':\n",
    "        return spisok.pop(-1)\n",
    "    elif command == 'remove' and location == 'beginning':\n",
    "        return spisok.pop(0)\n",
    "    elif command == 'add' and location == 'beginning':\n",
    "        spisok.insert(0,value)\n",
    "        return spisok\n",
    "    elif command == 'add' and location == 'end':\n",
    "        spisok.append(value)\n",
    "        return spisok\n",
    "list_manipulation([1,2,3], \"add\", \"end\", 30)    "
   ]
  },
  {
   "cell_type": "code",
   "execution_count": null,
   "id": "ba7d125a",
   "metadata": {},
   "outputs": [],
   "source": [
    "#is_palindrome\n",
    "\n",
    "#A Palindrome is a word, phrase, number, or other sequence of characters which reads the same backward or forward. \n",
    "#This function should take in one parameter and returns True or False depending on whether it is a palindrome. \n",
    "#As a bonus, allow your function to ignore whitespace and capitalization so that is_palindrome('a man a plan a canal Panama')\n",
    "#returns True.\n",
    "\n",
    "#is_palindrome('testing') # False\n",
    "#is_palindrome('tacocat') # True\n",
    "#is_palindrome('hannah') # True\n",
    "#is_palindrome('robert') # False"
   ]
  },
  {
   "cell_type": "code",
   "execution_count": 21,
   "id": "69611de8",
   "metadata": {},
   "outputs": [
    {
     "data": {
      "text/plain": [
       "False"
      ]
     },
     "execution_count": 21,
     "metadata": {},
     "output_type": "execute_result"
    }
   ],
   "source": [
    "def is_palindrome(word):\n",
    "    word1 = word.lower()\n",
    "    return word1 == word1[::-1]\n",
    "is_palindrome('robert')"
   ]
  },
  {
   "cell_type": "code",
   "execution_count": null,
   "id": "f8930858",
   "metadata": {},
   "outputs": [],
   "source": [
    "#frequency\n",
    "\n",
    "#This function accepts a list and a search_term (this will always be a primitive value) and returns the number of times the \n",
    "# search_term appears in the list.\n",
    "#frequency([1,2,3,4,4,4], 4) # 3\n",
    "#frequency([True, False, True, True], False) # 1"
   ]
  },
  {
   "cell_type": "code",
   "execution_count": 23,
   "id": "c9d2272f",
   "metadata": {},
   "outputs": [
    {
     "data": {
      "text/plain": [
       "1"
      ]
     },
     "execution_count": 23,
     "metadata": {},
     "output_type": "execute_result"
    }
   ],
   "source": [
    "def frequency(spisok,value):\n",
    "    return spisok.count(value)\n",
    "frequency([True, False, True, True], False)"
   ]
  },
  {
   "cell_type": "code",
   "execution_count": null,
   "id": "5138099c",
   "metadata": {},
   "outputs": [],
   "source": [
    "#flip_case\n",
    "\n",
    "#This function accepts a string and a letter and reverses the case of all occurances of the letter in the string.\n",
    "\n",
    "#flip_case(\"Hardy har har\", \"h\") # \"hardy Har Har\"\n"
   ]
  },
  {
   "cell_type": "code",
   "execution_count": 29,
   "id": "7b3472c9",
   "metadata": {},
   "outputs": [
    {
     "data": {
      "text/plain": [
       "'hardy Har Har'"
      ]
     },
     "execution_count": 29,
     "metadata": {},
     "output_type": "execute_result"
    }
   ],
   "source": [
    "def flip_case(string,letter):\n",
    "    stroka = ''\n",
    "    for char in string:\n",
    "        if char == letter.lower():\n",
    "            stroka += char.upper()\n",
    "        elif  char == letter.upper():\n",
    "            stroka += char.lower()\n",
    "        else:\n",
    "            stroka += char\n",
    "    return stroka\n",
    "flip_case(\"Hardy har har\", \"h\")    "
   ]
  },
  {
   "cell_type": "code",
   "execution_count": null,
   "id": "282a14d9",
   "metadata": {},
   "outputs": [],
   "source": [
    "#multiply_even_numbers\n",
    "\n",
    "#This function accepts a list of numbers and returns the product of all even numbers in the list.\n",
    "#multiply_even_numbers([2,3,4,5,6]) # 48\n"
   ]
  },
  {
   "cell_type": "code",
   "execution_count": 30,
   "id": "57e23a00",
   "metadata": {},
   "outputs": [
    {
     "data": {
      "text/plain": [
       "48"
      ]
     },
     "execution_count": 30,
     "metadata": {},
     "output_type": "execute_result"
    }
   ],
   "source": [
    "def multiply_even_numbers(spisok):\n",
    "    product = 1\n",
    "    list_even = [i for i in spisok if i%2 == 0]\n",
    "    for numb in list_even:\n",
    "        product *= numb\n",
    "    return product  \n",
    "multiply_even_numbers([2,3,4,5,6])    "
   ]
  },
  {
   "cell_type": "code",
   "execution_count": 31,
   "id": "8ff49abe",
   "metadata": {},
   "outputs": [],
   "source": [
    "#mode\n",
    "\n",
    "#This function accepts a list of numbers and returns the most frequent number in the list of numbers. \n",
    "#You can assume that the mode will be unique.\n",
    "#mode([2,4,1,2,3,3,4,4,5,4,4,6,4,6,7,4]) # 4"
   ]
  },
  {
   "cell_type": "code",
   "execution_count": 35,
   "id": "dcd24dcb",
   "metadata": {},
   "outputs": [
    {
     "data": {
      "text/plain": [
       "4"
      ]
     },
     "execution_count": 35,
     "metadata": {},
     "output_type": "execute_result"
    }
   ],
   "source": [
    "def mode(spisok):\n",
    "    max_cnt = 0\n",
    "    value_max_cnt = 0 \n",
    "    for i in spisok:\n",
    "        if spisok.count(i) > max_cnt:\n",
    "            max_cnt = spisok.count(i)\n",
    "            value_max_cnt = i\n",
    "    return value_max_cnt            \n",
    "mode([2,4,1,2,3,3,4,4,5,4,4,6,4,6,7,4])    "
   ]
  },
  {
   "cell_type": "code",
   "execution_count": 34,
   "id": "488b76da",
   "metadata": {},
   "outputs": [
    {
     "data": {
      "text/plain": [
       "4"
      ]
     },
     "execution_count": 34,
     "metadata": {},
     "output_type": "execute_result"
    }
   ],
   "source": [
    "def mode(spisok):\n",
    "    max_cnt = 0\n",
    "    value_max_cnt = 0 \n",
    "    for i in spisok:\n",
    "        if spisok.count(i) > max_cnt:\n",
    "            max_cnt = spisok.count(i)\n",
    "            value_max_cnt = i\n",
    "    return value_max_cnt            \n",
    "mode([2,4,1,2,3,3,4,4,5,4,4,6,4,6,7,4])    "
   ]
  },
  {
   "cell_type": "code",
   "execution_count": null,
   "id": "b09be78c",
   "metadata": {},
   "outputs": [],
   "source": [
    "#capitalize\n",
    "\n",
    "#This function accepts a string and returns the same string with the first letter capitalized.\n",
    "#capitalize(\"tim\") # \"Tim\"\n",
    "#capitalize(\"matt\") # \"Matt\""
   ]
  },
  {
   "cell_type": "code",
   "execution_count": 36,
   "id": "b7ebb5cc",
   "metadata": {},
   "outputs": [
    {
     "data": {
      "text/plain": [
       "'Tim'"
      ]
     },
     "execution_count": 36,
     "metadata": {},
     "output_type": "execute_result"
    }
   ],
   "source": [
    "def capitalize(string):\n",
    "    return string.capitalize()\n",
    "capitalize(\"tim\")"
   ]
  },
  {
   "cell_type": "code",
   "execution_count": null,
   "id": "752ec8ec",
   "metadata": {},
   "outputs": [],
   "source": [
    "#compact\n",
    "\n",
    "#This function accepts a list and returns a list of values that are truthy values.\n",
    "#compact([0,1,2,\"\",[], False, {}, None, \"All done\"]) # [1,2, \"All done\"]"
   ]
  },
  {
   "cell_type": "code",
   "execution_count": 40,
   "id": "7a08ab07",
   "metadata": {},
   "outputs": [
    {
     "data": {
      "text/plain": [
       "[1, 2, 'All done']"
      ]
     },
     "execution_count": 40,
     "metadata": {},
     "output_type": "execute_result"
    }
   ],
   "source": [
    "def compact(spisok):\n",
    "    spisok_fin = []\n",
    "    for i in spisok:\n",
    "        if i != None  and i != False and i != [] and i != {} and i != '':\n",
    "            spisok_fin.append(i)\n",
    "    return spisok_fin       \n",
    "compact([0,1,2,\"\",[], False, {}, None, \"All done\"])    "
   ]
  },
  {
   "cell_type": "code",
   "execution_count": null,
   "id": "9f1fc90c",
   "metadata": {},
   "outputs": [],
   "source": [
    "#partition\n",
    "\n",
    "#This function accepts a list and a callback function (which you can assume returns True or False). \n",
    "#The function should iterate over each element in the list and invoke the callback function at each iteration.\n",
    "#If the result of the callback function is True, the element should go into one list if it’s False, the element should go into\n",
    "#another list. When it’s finished, partition should return both lists inside of one larger list.\n",
    "\n",
    "#def is_even(num):\n",
    "    #return num % 2 == 0\n",
    "\n",
    "#partition([1,2,3,4], is_even) # [[2,4],[1,3]]"
   ]
  },
  {
   "cell_type": "code",
   "execution_count": 42,
   "id": "f6f7181a",
   "metadata": {},
   "outputs": [
    {
     "data": {
      "text/plain": [
       "[[2, 4], [1, 3]]"
      ]
     },
     "execution_count": 42,
     "metadata": {},
     "output_type": "execute_result"
    }
   ],
   "source": [
    "def is_even(num):\n",
    "    return num % 2 == 0\n",
    "def partition(spisok, func):\n",
    "    large_list=[]\n",
    "    list_true = []\n",
    "    list_false = []\n",
    "    for i in spisok:\n",
    "        if func(i) == True:\n",
    "            list_true.append(i)\n",
    "        else:\n",
    "            list_false.append(i)\n",
    "    large_list.append(list_true)\n",
    "    large_list.append(list_false)\n",
    "    return large_list\n",
    "partition([1,2,3,4], is_even)"
   ]
  },
  {
   "cell_type": "code",
   "execution_count": null,
   "id": "f0dc23fa",
   "metadata": {},
   "outputs": [],
   "source": [
    "#intersection\n",
    "\n",
    "#This function should accept a two dimensional list and return a list with the values that are the same in each list.\n",
    "\n",
    "#intersection([1,2,3], [2,3,4]) # [2,3]"
   ]
  },
  {
   "cell_type": "code",
   "execution_count": 43,
   "id": "2e01e4e9",
   "metadata": {},
   "outputs": [
    {
     "data": {
      "text/plain": [
       "[2, 3]"
      ]
     },
     "execution_count": 43,
     "metadata": {},
     "output_type": "execute_result"
    }
   ],
   "source": [
    "def intersection(list1,list2):\n",
    "    final_list = [value for value in list1 if value in list2]\n",
    "    return final_list\n",
    "intersection([1,2,3], [2,3,4])"
   ]
  },
  {
   "cell_type": "code",
   "execution_count": null,
   "id": "756f8470",
   "metadata": {},
   "outputs": [],
   "source": [
    "#once\n",
    "\n",
    "#This function accepts a function and returns a new function that can only be invoked once.\n",
    "#If the function is invoked more than once, it should return None. \n",
    "#Hint you will need to define a new function inside of your once function and return that function.\n",
    "#You can add properties to your inner function to see if it has run already.\n",
    "def add(a,b):\n",
    "    return a + b\n",
    "\n",
    "one_addition = once(add)\n",
    "\n",
    "one_addition(2,2) # 4\n",
    "one_addition(2,2) # undefined\n",
    "one_addition(12,200) # undefined"
   ]
  },
  {
   "cell_type": "code",
   "execution_count": 44,
   "id": "2cd91d43",
   "metadata": {},
   "outputs": [
    {
     "data": {
      "text/plain": [
       "4"
      ]
     },
     "execution_count": 44,
     "metadata": {},
     "output_type": "execute_result"
    }
   ],
   "source": [
    "def once(func):\n",
    "    def wrapper(*args, **kwargs):\n",
    "        if wrapper.has_run:\n",
    "            return None\n",
    "        wrapper.has_run = True\n",
    "        return func(*args, **kwargs)\n",
    "\n",
    "    wrapper.has_run = False\n",
    "    return wrapper\n",
    "def add(a,b):\n",
    "    return a + b\n",
    "\n",
    "one_addition = once(add)\n",
    "\n",
    "one_addition(2,2) # 4"
   ]
  },
  {
   "cell_type": "code",
   "execution_count": 45,
   "id": "4667fdbf",
   "metadata": {},
   "outputs": [],
   "source": [
    "one_addition(2,2) # undefined\n"
   ]
  },
  {
   "cell_type": "code",
   "execution_count": null,
   "id": "9e72b6e6",
   "metadata": {},
   "outputs": [],
   "source": [
    "#Research what decorators are and refactor your once code to use a decorator so that you can run\n",
    "\n",
    "@run_once\n",
    "def add(a,b):\n",
    "    return a + b\n",
    "\n",
    "add(2,2) # 4\n",
    "add(2,20) # None\n",
    "add(12,20) # None"
   ]
  },
  {
   "cell_type": "code",
   "execution_count": 46,
   "id": "6f948d6a",
   "metadata": {},
   "outputs": [
    {
     "data": {
      "text/plain": [
       "4"
      ]
     },
     "execution_count": 46,
     "metadata": {},
     "output_type": "execute_result"
    }
   ],
   "source": [
    "def once(func):\n",
    "    def wrapper(*args, **kwargs):\n",
    "        if not wrapper.has_run:\n",
    "            wrapper.has_run = True\n",
    "            return func(*args, **kwargs)\n",
    "        else:\n",
    "            return None\n",
    "\n",
    "    wrapper.has_run = False\n",
    "    return wrapper\n",
    "\n",
    "@once\n",
    "def add(a, b):\n",
    "    return a + b\n",
    "add(2,2) "
   ]
  },
  {
   "cell_type": "code",
   "execution_count": 47,
   "id": "dd00c229",
   "metadata": {},
   "outputs": [],
   "source": [
    "add(12,20) # None"
   ]
  },
  {
   "cell_type": "code",
   "execution_count": null,
   "id": "62cce79d",
   "metadata": {},
   "outputs": [],
   "source": [
    "#DESCRIPTION:\n",
    "#Complete the solution so that it reverses the string passed into it."
   ]
  },
  {
   "cell_type": "code",
   "execution_count": 49,
   "id": "53c9f3e1",
   "metadata": {},
   "outputs": [
    {
     "data": {
      "text/plain": [
       "'dlrow'"
      ]
     },
     "execution_count": 49,
     "metadata": {},
     "output_type": "execute_result"
    }
   ],
   "source": [
    "def reverser(string):\n",
    "    return string[::-1]\n",
    "reverser('world')"
   ]
  },
  {
   "cell_type": "code",
   "execution_count": null,
   "id": "c4403710",
   "metadata": {},
   "outputs": [],
   "source": [
    "#DESCRIPTION:\n",
    "#The accounts of the \"Fat to Fit Club (FFC)\" association are supervised by John as a volunteered accountant. The association is funded through financial donations from generous benefactors. John has a list of the first n donations: [14, 30, 5, 7, 9, 11, 15] He wants to know how much the next benefactor should give to the association so that the average of the first n + 1 donations should reach an average of 30. After doing the math he found 149. He thinks that he could have made a mistake.\n",
    "\n",
    "#if dons = [14, 30, 5, 7, 9, 11, 15] then new_avg(dons, 30) --> 149\n",
    "\n",
    "#Could you help him?\n",
    "\n",
    "#Task\n",
    "#The function new_avg(arr, navg) should return the expected donation (rounded up to the next integer)\n",
    "#that will permit to reach the average navg.\n",
    "\n",
    "#Should the last donation be a non positive number (<= 0) John wants us:\n",
    "\n",
    "#to return:\n",
    "\n",
    "#Nothing in Haskell, Elm\n",
    "#None in F#, Ocaml, Rust, Scala\n",
    "#-1 in C, D, Fortran, Nim, PowerShell, Go, Pascal, Prolog, Lua, Perl, Erlang\n",
    "#or to throw an error (some examples for such a case):\n",
    "#ValueError in Python\n",
    "#So, he will clearly see that his expectations are not great enough. In \"Sample Tests\" you can see what to return."
   ]
  },
  {
   "cell_type": "code",
   "execution_count": 57,
   "id": "3f7a5780",
   "metadata": {},
   "outputs": [
    {
     "data": {
      "text/plain": [
       "645"
      ]
     },
     "execution_count": 57,
     "metadata": {},
     "output_type": "execute_result"
    }
   ],
   "source": [
    "def new_avg(arr,navg):\n",
    "    x = navg*(len(arr)+1)-sum(arr)\n",
    "    if x <= 0 :\n",
    "        raise ValueError(\"Значение не может быть отрицательным\")\n",
    "    else:\n",
    "        return round(x)\n",
    "new_avg([14, 30, 5, 7, 9, 11, 15], 92)    "
   ]
  },
  {
   "cell_type": "code",
   "execution_count": 58,
   "id": "db7d5f73",
   "metadata": {},
   "outputs": [
    {
     "data": {
      "text/plain": [
       "749"
      ]
     },
     "execution_count": 58,
     "metadata": {},
     "output_type": "execute_result"
    }
   ],
   "source": [
    "new_avg([14, 30, 5, 7, 9, 11, 15], 105) "
   ]
  },
  {
   "cell_type": "code",
   "execution_count": 59,
   "id": "e7fcae1a",
   "metadata": {},
   "outputs": [
    {
     "data": {
      "text/plain": [
       "15"
      ]
     },
     "execution_count": 59,
     "metadata": {},
     "output_type": "execute_result"
    }
   ],
   "source": [
    "new_avg([], 15) "
   ]
  },
  {
   "cell_type": "code",
   "execution_count": null,
   "id": "1b3da179",
   "metadata": {},
   "outputs": [],
   "source": [
    "#DESCRIPTION: РАСЧЕТ Арифмитической прогрессии с шагом \n",
    "#Your task is to write a function which returns the sum of a sequence of integers.\n",
    "\n",
    "#The sequence is defined by 3 non-negative values: begin, end, step.\n",
    "\n",
    "#If begin value is greater than the end, your function should return 0. If end is not the result of an integer number of steps,\n",
    "#then don't add it to the sum. See the 4th example below.\n",
    "\n",
    "Examples\n",
    "\n",
    "2,2,2 --> 2\n",
    "2,6,2 --> 12 (2 + 4 + 6)\n",
    "1,5,1 --> 15 (1 + 2 + 3 + 4 + 5)\n",
    "1,5,3  --> 5 (1 + 4)"
   ]
  },
  {
   "cell_type": "code",
   "execution_count": 66,
   "id": "f9d3d4bf",
   "metadata": {},
   "outputs": [
    {
     "data": {
      "text/plain": [
       "5"
      ]
     },
     "execution_count": 66,
     "metadata": {},
     "output_type": "execute_result"
    }
   ],
   "source": [
    "def sum_sequence(begin,end,step):\n",
    "    if begin > end:\n",
    "        return 0\n",
    "    n = round(end/step)\n",
    "    summ = (n/2)*(2*begin+(n-1)*step)\n",
    "    return int(summ)\n",
    "sum_sequence(1,5,3)"
   ]
  },
  {
   "cell_type": "code",
   "execution_count": 68,
   "id": "beeca3e5",
   "metadata": {},
   "outputs": [],
   "source": [
    "#DESCRIPTION:\n",
    "#You must implement a function that returns the difference between the largest and the smallest value \n",
    "# in a given list / array (lst) received as the parameter.\n",
    "\n",
    "lst contains integers, that means it may contain some negative numbers\n",
    "if lst is empty or contains a single element, return 0\n",
    "lst is not sorted\n",
    "[1, 2, 3, 4]   //  returns 3 because 4 -   1  == 3\n",
    "[1, 2, 3, -4]  //  returns 7 because 3 - (-4) == 7"
   ]
  },
  {
   "cell_type": "code",
   "execution_count": 69,
   "id": "b7b7c8f5",
   "metadata": {},
   "outputs": [
    {
     "data": {
      "text/plain": [
       "3"
      ]
     },
     "execution_count": 69,
     "metadata": {},
     "output_type": "execute_result"
    }
   ],
   "source": [
    "def max_diff(lst):\n",
    "    if len(lst) == 0 or len(lst) == 1:\n",
    "        return 0\n",
    "    else:\n",
    "        return(max(lst)-min(lst))\n",
    "max_diff([1, 2, 3, 4])    "
   ]
  },
  {
   "cell_type": "code",
   "execution_count": 70,
   "id": "9baefeb0",
   "metadata": {},
   "outputs": [
    {
     "data": {
      "text/plain": [
       "7"
      ]
     },
     "execution_count": 70,
     "metadata": {},
     "output_type": "execute_result"
    }
   ],
   "source": [
    "max_diff([1, 2, 3, -4])    "
   ]
  },
  {
   "cell_type": "code",
   "execution_count": null,
   "id": "2f5e7134",
   "metadata": {},
   "outputs": [],
   "source": [
    "#DESCRIPTION: Подсчет смайликов в списке (в списке должны быть строки подходящие под определения и условия ниже)\n",
    "#Given an array (arr) as an argument complete the function countSmileys that should return the total number of smiling faces.\n",
    "\n",
    "#Rules for a smiling face:\n",
    "\n",
    "#Each smiley face must contain a valid pair of eyes. Eyes can be marked as : or ;\n",
    "#A smiley face can have a nose but it does not have to. Valid characters for a nose are - or ~\n",
    "#Every smiling face must have a smiling mouth that should be marked with either ) or D\n",
    "#No additional characters are allowed except for those mentioned.\n",
    "\n",
    "Valid smiley face examples: :) :D ;-D :~)\n",
    "Invalid smiley faces: ;( :> :} :]\n",
    "\n",
    "#Example\n",
    "countSmileys([':)', ';(', ';}', ':-D']);       // should return 2;\n",
    "countSmileys([';D', ':-(', ':-)', ';~)']);     // should return 3;\n",
    "countSmileys([';]', ':[', ';*', ':$', ';-D']); // should return 1;\n",
    "#Note\n",
    "#In case of an empty array return 0. You will not be tested with invalid input (input will always be an array).\n",
    "#Order of the face (eyes, nose, mouth) elements will always be the same."
   ]
  },
  {
   "cell_type": "code",
   "execution_count": 79,
   "id": "a30e2181",
   "metadata": {},
   "outputs": [
    {
     "data": {
      "text/plain": [
       "3"
      ]
     },
     "execution_count": 79,
     "metadata": {},
     "output_type": "execute_result"
    }
   ],
   "source": [
    "def count_Smileys(arr):\n",
    "    spisok = [':',';',')','D','-','~']\n",
    "    cnt = 0\n",
    "    for e in arr:\n",
    "        cnt1 = 0\n",
    "        for i in range(len(e)):\n",
    "            if e[i] not in spisok:\n",
    "                cnt1=0\n",
    "                break\n",
    "            elif e[i] == ':' or e[i] == ';':\n",
    "                cnt1+=1\n",
    "            elif e[i] == ')' or e[i] == 'D':\n",
    "                cnt1+=1\n",
    "            elif e[i] == '-' or e[i] == '~':\n",
    "                cnt1+=1\n",
    "                \n",
    "        if cnt1 >=2:\n",
    "            cnt += 1\n",
    "            \n",
    "    return cnt\n",
    "count_Smileys([';D', ':-(', ':-)', ';~)'])"
   ]
  },
  {
   "cell_type": "code",
   "execution_count": 78,
   "id": "80de60d5",
   "metadata": {},
   "outputs": [
    {
     "data": {
      "text/plain": [
       "1"
      ]
     },
     "execution_count": 78,
     "metadata": {},
     "output_type": "execute_result"
    }
   ],
   "source": [
    "count_Smileys([';]', ':[', ';*', ':$', ';-D'])"
   ]
  },
  {
   "cell_type": "code",
   "execution_count": 81,
   "id": "fb3ee03e",
   "metadata": {},
   "outputs": [
    {
     "data": {
      "text/plain": [
       "3"
      ]
     },
     "execution_count": 81,
     "metadata": {},
     "output_type": "execute_result"
    }
   ],
   "source": [
    "DESCRIPTION:\n",
    "Create a function that will tell how many sentences are in a paragraph, based on the number of periods \".\", question marks \"?\"\n",
    "and \"!\" exclamation points that an input string contains.\n"
   ]
  },
  {
   "cell_type": "code",
   "execution_count": null,
   "id": "604ecbb2",
   "metadata": {},
   "outputs": [],
   "source": [
    "def count_sentances(strk):\n",
    "    counter = 0\n",
    "    counter += strk.count('.')\n",
    "    counter += strk.count('?')\n",
    "    counter += strk.count('!')\n",
    "    return counter\n",
    "count_sentances('Солнце светит ярко на небе. Ты уже завтракал? Какое великолепное зрелище!')"
   ]
  },
  {
   "cell_type": "code",
   "execution_count": null,
   "id": "cea813c6",
   "metadata": {},
   "outputs": [],
   "source": [
    "#DESCRIPTION:\n",
    "#Two tortoises named A and B must run a race. A starts with an average speed of 720 feet per hour.\n",
    "#Young B knows she runs faster than A, and furthermore has not finished her cabbage.\n",
    "\n",
    "#When she starts, at last, she can see that A has a 70 feet lead but B's speed is 850 feet per hour. How long will it take B to\n",
    "#catch A?\n",
    "\n",
    "#More generally: given two speeds v1 (A's speed, integer > 0) and v2 (B's speed, integer > 0) and a lead g (integer > 0)\n",
    "#how long will it take B to catch A?\n",
    "\n",
    "#The result will be an array [hour, min, sec] which is the time needed in hours, minutes and seconds\n",
    "#(round down to the nearest second) or a string in some languages.\n",
    "\n",
    "#If v1 >= v2 then return nil, nothing, null, None or {-1, -1, -1} for C++, C, Go, Nim, Pascal, COBOL, Erlang, [-1, -1, -1] \n",
    "#for Perl,[] for Kotlin or \"-1 -1 -1\" for others.\n",
    "\n",
    "Examples:\n",
    "(form of the result depends on the language)\n",
    "\n",
    "race(720, 850, 70) => [0, 32, 18] or \"0 32 18\"\n",
    "race(80, 91, 37)   => [3, 21, 49] or \"3 21 49\""
   ]
  },
  {
   "cell_type": "code",
   "execution_count": 132,
   "id": "e166ef90",
   "metadata": {},
   "outputs": [
    {
     "data": {
      "text/plain": [
       "[10, 0, 0]"
      ]
     },
     "execution_count": 132,
     "metadata": {},
     "output_type": "execute_result"
    }
   ],
   "source": [
    "def time_to_catch(v1,v2,dist):\n",
    "    if v1 >= v2:\n",
    "        return None\n",
    "    else:\n",
    "        h = int(dist/(v2-v1))\n",
    "        m = int(60*((dist/(v2-v1))-h))\n",
    "        s = int((dist/(v2-v1)-(h+m/60))*3600)\n",
    "        return [h,m,s]\n",
    "time_to_catch(150,160,100)"
   ]
  },
  {
   "cell_type": "code",
   "execution_count": 116,
   "id": "9625b05f",
   "metadata": {},
   "outputs": [
    {
     "data": {
      "text/plain": [
       "3.3636363636363638"
      ]
     },
     "execution_count": 116,
     "metadata": {},
     "output_type": "execute_result"
    }
   ],
   "source": [
    "#DESCRIPTION:\n",
    "#Write a function that receives two strings and returns n, where n is equal to the number of characters we should shift the\n",
    "#first string forward to match the second. The check should be case sensitive.\n",
    "\n",
    "#For instance, take the strings \"fatigue\" and \"tiguefa\". In this case, the first string has been rotated\n",
    "#5 characters forward to produce the second string, so 5 would be returned.\n",
    "\n",
    "#If the second string isn't a valid rotation of the first string, the method returns -1.\n",
    "\n",
    "Examples:\n",
    "\"coffee\", \"eecoff\" => 2\n",
    "\"eecoff\", \"coffee\" => 4\n",
    "\"moose\", \"Moose\" => -1\n",
    "\"isn't\", \"'tisn\" => 2\n",
    "\"Esham\", \"Esham\" => 0\n",
    "\"dog\", \"god\" => -1"
   ]
  },
  {
   "cell_type": "code",
   "execution_count": 142,
   "id": "e46504e9",
   "metadata": {},
   "outputs": [
    {
     "data": {
      "text/plain": [
       "-1"
      ]
     },
     "execution_count": 142,
     "metadata": {},
     "output_type": "execute_result"
    }
   ],
   "source": [
    "def calc_string_rotation(s1, s2):\n",
    "    if len(s1) != len(s2):\n",
    "        return -1  # Strings must be of equal length for valid rotation\n",
    "\n",
    "    for i in range(len(s2)):\n",
    "        rotated = s2[i:] + s2[:i]\n",
    "        if rotated == s1:\n",
    "            return i  # Return the amount of rotation\n",
    "\n",
    "    return -1  # No valid rotation found\n",
    "calc_string_rotation(\"coffee\", \"eecoff\")\n"
   ]
  },
  {
   "cell_type": "code",
   "execution_count": 134,
   "id": "fe79d1cc",
   "metadata": {},
   "outputs": [],
   "source": []
  },
  {
   "cell_type": "code",
   "execution_count": 135,
   "id": "8e2427ed",
   "metadata": {},
   "outputs": [],
   "source": []
  },
  {
   "cell_type": "code",
   "execution_count": null,
   "id": "bb7c5bc4",
   "metadata": {},
   "outputs": [],
   "source": []
  }
 ],
 "metadata": {
  "kernelspec": {
   "display_name": "Python 3 (ipykernel)",
   "language": "python",
   "name": "python3"
  },
  "language_info": {
   "codemirror_mode": {
    "name": "ipython",
    "version": 3
   },
   "file_extension": ".py",
   "mimetype": "text/x-python",
   "name": "python",
   "nbconvert_exporter": "python",
   "pygments_lexer": "ipython3",
   "version": "3.11.5"
  }
 },
 "nbformat": 4,
 "nbformat_minor": 5
}
